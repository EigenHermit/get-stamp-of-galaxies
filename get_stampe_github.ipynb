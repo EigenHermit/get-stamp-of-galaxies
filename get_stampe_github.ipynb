{
 "cells": [
  {
   "cell_type": "code",
   "execution_count": 1,
   "metadata": {},
   "outputs": [],
   "source": [
    "import os\n",
    "import math\n",
    "import pandas as pd\n",
    "from IPython.display import clear_output"
   ]
  },
  {
   "cell_type": "code",
   "execution_count": 2,
   "metadata": {},
   "outputs": [],
   "source": [
    "#input: centre coordinate of the source from the catalogue\n",
    "#output: \n",
    "#    ans1: boundary of x-axis\n",
    "#    ans2: boundary of y-axis\n",
    "def get_coor(x,y):\n",
    "    ans1 = []\n",
    "    ans2 = []\n",
    "    ans1.append(math.ceil(x-48))\n",
    "    ans1.append(math.ceil(x+48))\n",
    "    ans2.append(math.ceil(y-48))\n",
    "    ans2.append(math.ceil(y+48))\n",
    "    return ans1,ans2"
   ]
  },
  {
   "cell_type": "code",
   "execution_count": 6,
   "metadata": {},
   "outputs": [],
   "source": [
    "#the csv file is the catalogue\n",
    "data_df = pd.read_csv(\"C:/Users/zzh/csv_file/kids_LRG_3band_posinfo.csv\")\n",
    "\n",
    "#the dir contains FITS image\n",
    "img_dir = \"/media/liuxk/Elements/KIDS_DR3_IMG/\"\n",
    "\n",
    "#the dir you want  save the stamps\n",
    "save_dir = \"/home/liuxk/June/validation/\""
   ]
  },
  {
   "cell_type": "code",
   "execution_count": 7,
   "metadata": {},
   "outputs": [],
   "source": [
    "img_name_list = data_df.img_name.tolist()\n",
    "x_position_list = data_df.x_position.tolist()\n",
    "y_position_list = data_df.y_position.tolist()\n",
    "name_list = data_df.name.tolist()"
   ]
  },
  {
   "cell_type": "code",
   "execution_count": 8,
   "metadata": {},
   "outputs": [],
   "source": [
    "img_full_name_list = []\n",
    "for img_name in img_name_list:\n",
    "#    img_name = img_name.replace(\"_r_\",\"_i_\")\n",
    "    img_full_name_list.append(img_dir + img_name)\n"
   ]
  },
  {
   "cell_type": "code",
   "execution_count": 21,
   "metadata": {},
   "outputs": [
    {
     "name": "stdout",
     "output_type": "stream",
     "text": [
      "3791 th have been processed, tot: 3791\n"
     ]
    }
   ],
   "source": [
    "i = 0\n",
    "for this_fits in img_full_name_list:\n",
    "        this_xcentre = x_position_list[i]\n",
    "        this_ycentre = y_position_list[i]\n",
    "        xcoor,ycoor = get_coor(this_xcentre, this_ycentre)\n",
    "        xcoor_low = xcoor[0]\n",
    "        xcoor_up  = xcoor[1]\n",
    "        ycoor_low = ycoor[0]\n",
    "        ycoor_up  = ycoor[1]\n",
    "        this_name =  name_list[i].split(\" \")[-1]\n",
    "        \n",
    "        cmd = \"imcopy\" + \" \" + this_fits + \"[\" + str(xcoor_low) + \":\" + str(xcoor_up) + ',' + str(ycoor_low) + \":\" + str(ycoor_up) + \"]\" + \" \" +save_dir+this_name+\".fits\"\n",
    "        os.system(cmd)\n",
    "        clear_output(wait=True)\n",
    "        i = i + 1\n",
    "        print(\"%d th have been processed, tot: %d\"%(i,len(name_list)))"
   ]
  },
  {
   "cell_type": "code",
   "execution_count": null,
   "metadata": {},
   "outputs": [],
   "source": []
  }
 ],
 "metadata": {
  "kernelspec": {
   "display_name": "Python 3",
   "language": "python",
   "name": "python3"
  },
  "language_info": {
   "codemirror_mode": {
    "name": "ipython",
    "version": 3
   },
   "file_extension": ".py",
   "mimetype": "text/x-python",
   "name": "python",
   "nbconvert_exporter": "python",
   "pygments_lexer": "ipython3",
   "version": "3.7.3"
  }
 },
 "nbformat": 4,
 "nbformat_minor": 2
}
